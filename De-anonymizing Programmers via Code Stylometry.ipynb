{
 "cells": [
  {
   "cell_type": "code",
   "execution_count": 1,
   "metadata": {},
   "outputs": [],
   "source": [
    "import json\n",
    "import random\n",
    "import warnings\n",
    "import numpy as np\n",
    "import pandas as pd\n",
    "import matplotlib.pyplot as plt\n",
    "\n",
    "\n",
    "from tqdm import tqdm\n",
    "from pathlib import Path\n",
    "from collections import defaultdict\n",
    "from features.utils import build_mapping_to_ids\n",
    "\n",
    "warnings.filterwarnings('ignore')"
   ]
  },
  {
   "cell_type": "markdown",
   "metadata": {},
   "source": [
    "# Data"
   ]
  },
  {
   "cell_type": "markdown",
   "metadata": {},
   "source": [
    "### Get all problems"
   ]
  },
  {
   "cell_type": "code",
   "execution_count": 2,
   "metadata": {},
   "outputs": [],
   "source": [
    "with open('data/metadata.json', 'r') as file:\n",
    "    metadata = json.load(file)"
   ]
  },
  {
   "cell_type": "code",
   "execution_count": 3,
   "metadata": {},
   "outputs": [],
   "source": [
    "dataset_path = Path('data/codejam/')\n",
    "files = list(dataset_path.rglob('*.java'))"
   ]
  },
  {
   "cell_type": "code",
   "execution_count": 4,
   "metadata": {},
   "outputs": [],
   "source": [
    "usernames = set(it.stem for it in files)\n",
    "username_to_id = build_mapping_to_ids(usernames)"
   ]
  },
  {
   "cell_type": "code",
   "execution_count": 5,
   "metadata": {},
   "outputs": [],
   "source": [
    "dataset = pd.DataFrame({\n",
    "    'path': files,\n",
    "    'round_id': [int(it.parts[2]) for it in files],\n",
    "    'problem_id': [int(it.parts[3]) for it in files],\n",
    "    'user_id': [username_to_id[it.stem] for it in files]\n",
    "})"
   ]
  },
  {
   "cell_type": "code",
   "execution_count": 6,
   "metadata": {},
   "outputs": [
    {
     "data": {
      "text/html": [
       "<div>\n",
       "<style scoped>\n",
       "    .dataframe tbody tr th:only-of-type {\n",
       "        vertical-align: middle;\n",
       "    }\n",
       "\n",
       "    .dataframe tbody tr th {\n",
       "        vertical-align: top;\n",
       "    }\n",
       "\n",
       "    .dataframe thead th {\n",
       "        text-align: right;\n",
       "    }\n",
       "</style>\n",
       "<table border=\"1\" class=\"dataframe\">\n",
       "  <thead>\n",
       "    <tr style=\"text-align: right;\">\n",
       "      <th></th>\n",
       "      <th>path</th>\n",
       "      <th>round_id</th>\n",
       "      <th>problem_id</th>\n",
       "      <th>user_id</th>\n",
       "    </tr>\n",
       "  </thead>\n",
       "  <tbody>\n",
       "    <tr>\n",
       "      <th>0</th>\n",
       "      <td>data/codejam/639102/760487/Joshik.java</td>\n",
       "      <td>639102</td>\n",
       "      <td>760487</td>\n",
       "      <td>806</td>\n",
       "    </tr>\n",
       "    <tr>\n",
       "      <th>1</th>\n",
       "      <td>data/codejam/639102/760487/pashka.java</td>\n",
       "      <td>639102</td>\n",
       "      <td>760487</td>\n",
       "      <td>4013</td>\n",
       "    </tr>\n",
       "    <tr>\n",
       "      <th>2</th>\n",
       "      <td>data/codejam/639102/760487/Vegetable.java</td>\n",
       "      <td>639102</td>\n",
       "      <td>760487</td>\n",
       "      <td>1740</td>\n",
       "    </tr>\n",
       "    <tr>\n",
       "      <th>3</th>\n",
       "      <td>data/codejam/639102/760487/mystic.java</td>\n",
       "      <td>639102</td>\n",
       "      <td>760487</td>\n",
       "      <td>3834</td>\n",
       "    </tr>\n",
       "    <tr>\n",
       "      <th>4</th>\n",
       "      <td>data/codejam/639102/760487/vvn.java</td>\n",
       "      <td>639102</td>\n",
       "      <td>760487</td>\n",
       "      <td>4935</td>\n",
       "    </tr>\n",
       "  </tbody>\n",
       "</table>\n",
       "</div>"
      ],
      "text/plain": [
       "                                        path  round_id  problem_id  user_id\n",
       "0     data/codejam/639102/760487/Joshik.java    639102      760487      806\n",
       "1     data/codejam/639102/760487/pashka.java    639102      760487     4013\n",
       "2  data/codejam/639102/760487/Vegetable.java    639102      760487     1740\n",
       "3     data/codejam/639102/760487/mystic.java    639102      760487     3834\n",
       "4        data/codejam/639102/760487/vvn.java    639102      760487     4935"
      ]
     },
     "execution_count": 6,
     "metadata": {},
     "output_type": "execute_result"
    }
   ],
   "source": [
    "dataset.head()"
   ]
  },
  {
   "cell_type": "markdown",
   "metadata": {},
   "source": [
    "### Select 100 random users who has at least 9 files"
   ]
  },
  {
   "cell_type": "code",
   "execution_count": 7,
   "metadata": {},
   "outputs": [],
   "source": [
    "N_FILES = 9\n",
    "N_USERS = 100"
   ]
  },
  {
   "cell_type": "code",
   "execution_count": 8,
   "metadata": {},
   "outputs": [],
   "source": [
    "random.seed(0)\n",
    "np.random.seed(0)"
   ]
  },
  {
   "cell_type": "code",
   "execution_count": 9,
   "metadata": {},
   "outputs": [],
   "source": [
    "count = dataset.groupby('user_id').problem_id.count()\n",
    "users = count[count >= N_FILES].index\n",
    "users = np.random.choice(users, N_USERS, replace=False)"
   ]
  },
  {
   "cell_type": "code",
   "execution_count": 10,
   "metadata": {},
   "outputs": [],
   "source": [
    "parts = [dataset[dataset.user_id == user].sample(n=N_FILES, replace=False) for user in users]\n",
    "dataset = pd.concat(parts).reset_index(drop=True)\n",
    "\n",
    "# Create new user ids\n",
    "user_id_to_new_id = build_mapping_to_ids(dataset.user_id)\n",
    "dataset.user_id = dataset.user_id.apply(lambda it: user_id_to_new_id[it])"
   ]
  },
  {
   "cell_type": "code",
   "execution_count": 11,
   "metadata": {},
   "outputs": [
    {
     "data": {
      "text/html": [
       "<div>\n",
       "<style scoped>\n",
       "    .dataframe tbody tr th:only-of-type {\n",
       "        vertical-align: middle;\n",
       "    }\n",
       "\n",
       "    .dataframe tbody tr th {\n",
       "        vertical-align: top;\n",
       "    }\n",
       "\n",
       "    .dataframe thead th {\n",
       "        text-align: right;\n",
       "    }\n",
       "</style>\n",
       "<table border=\"1\" class=\"dataframe\">\n",
       "  <thead>\n",
       "    <tr style=\"text-align: right;\">\n",
       "      <th></th>\n",
       "      <th>path</th>\n",
       "      <th>round_id</th>\n",
       "      <th>problem_id</th>\n",
       "      <th>user_id</th>\n",
       "    </tr>\n",
       "  </thead>\n",
       "  <tbody>\n",
       "    <tr>\n",
       "      <th>0</th>\n",
       "      <td>data/codejam/32013/24480/Sputnik.java</td>\n",
       "      <td>32013</td>\n",
       "      <td>24480</td>\n",
       "      <td>29</td>\n",
       "    </tr>\n",
       "    <tr>\n",
       "      <th>1</th>\n",
       "      <td>data/codejam/32001/24440/Sputnik.java</td>\n",
       "      <td>32001</td>\n",
       "      <td>24440</td>\n",
       "      <td>29</td>\n",
       "    </tr>\n",
       "    <tr>\n",
       "      <th>2</th>\n",
       "      <td>data/codejam/635102/694485/Sputnik.java</td>\n",
       "      <td>635102</td>\n",
       "      <td>694485</td>\n",
       "      <td>29</td>\n",
       "    </tr>\n",
       "    <tr>\n",
       "      <th>3</th>\n",
       "      <td>data/codejam/635102/706485/Sputnik.java</td>\n",
       "      <td>635102</td>\n",
       "      <td>706485</td>\n",
       "      <td>29</td>\n",
       "    </tr>\n",
       "    <tr>\n",
       "      <th>4</th>\n",
       "      <td>data/codejam/635102/698485/Sputnik.java</td>\n",
       "      <td>635102</td>\n",
       "      <td>698485</td>\n",
       "      <td>29</td>\n",
       "    </tr>\n",
       "  </tbody>\n",
       "</table>\n",
       "</div>"
      ],
      "text/plain": [
       "                                      path  round_id  problem_id  user_id\n",
       "0    data/codejam/32013/24480/Sputnik.java     32013       24480       29\n",
       "1    data/codejam/32001/24440/Sputnik.java     32001       24440       29\n",
       "2  data/codejam/635102/694485/Sputnik.java    635102      694485       29\n",
       "3  data/codejam/635102/706485/Sputnik.java    635102      706485       29\n",
       "4  data/codejam/635102/698485/Sputnik.java    635102      698485       29"
      ]
     },
     "execution_count": 11,
     "metadata": {},
     "output_type": "execute_result"
    }
   ],
   "source": [
    "dataset.head()"
   ]
  },
  {
   "cell_type": "markdown",
   "metadata": {},
   "source": [
    "# Build dataset"
   ]
  },
  {
   "cell_type": "code",
   "execution_count": 12,
   "metadata": {},
   "outputs": [],
   "source": [
    "from features import *\n",
    "from sklearn.feature_selection import mutual_info_regression"
   ]
  },
  {
   "cell_type": "code",
   "execution_count": 13,
   "metadata": {},
   "outputs": [],
   "source": [
    "samples = calculate_features_for_files(dataset.path.values)"
   ]
  },
  {
   "cell_type": "code",
   "execution_count": 14,
   "metadata": {},
   "outputs": [
    {
     "name": "stdout",
     "output_type": "stream",
     "text": [
      "Number of samples: 900\n",
      "Number of features: 5265\n"
     ]
    }
   ],
   "source": [
    "X = build_dataset(samples)\n",
    "y = dataset.user_id.values\n",
    "\n",
    "print(f'Number of samples: {X.shape[0]}')\n",
    "print(f'Number of features: {X.shape[1]}')"
   ]
  },
  {
   "cell_type": "markdown",
   "metadata": {},
   "source": [
    "### Select the best 1500 features according to mutual information"
   ]
  },
  {
   "cell_type": "code",
   "execution_count": null,
   "metadata": {},
   "outputs": [],
   "source": [
    "mi = mutual_info_regression(np.nan_to_num(X), y, random_state=0)\n",
    "mi /= np.max(mi)"
   ]
  },
  {
   "cell_type": "code",
   "execution_count": null,
   "metadata": {},
   "outputs": [],
   "source": [
    "mi_indices = np.argsort(mi)\n",
    "features_indices = mi_indices[-1500:]\n",
    "features = X.columns[features_indices].values\n",
    "X = X[features]\n",
    "\n",
    "print(f'Number of samples: {X.shape[0]}')\n",
    "print(f'Number of features: {X.shape[1]}')"
   ]
  },
  {
   "cell_type": "markdown",
   "metadata": {},
   "source": [
    "### Select top 1500 popular features"
   ]
  },
  {
   "cell_type": "code",
   "execution_count": 15,
   "metadata": {},
   "outputs": [
    {
     "name": "stdout",
     "output_type": "stream",
     "text": [
      "Number of samples: 900\n",
      "Number of features: 1500\n"
     ]
    }
   ],
   "source": [
    "nan_count = X.isna().sum(axis=0)\n",
    "indices = np.argsort(nan_count.values)\n",
    "features = nan_count[indices][:1500].index\n",
    "X = X[features]\n",
    "\n",
    "print(f'Number of samples: {X.shape[0]}')\n",
    "print(f'Number of features: {X.shape[1]}')"
   ]
  },
  {
   "cell_type": "code",
   "execution_count": 16,
   "metadata": {},
   "outputs": [
    {
     "data": {
      "text/html": [
       "<div>\n",
       "<style scoped>\n",
       "    .dataframe tbody tr th:only-of-type {\n",
       "        vertical-align: middle;\n",
       "    }\n",
       "\n",
       "    .dataframe tbody tr th {\n",
       "        vertical-align: top;\n",
       "    }\n",
       "\n",
       "    .dataframe thead th {\n",
       "        text-align: right;\n",
       "    }\n",
       "</style>\n",
       "<table border=\"1\" class=\"dataframe\">\n",
       "  <thead>\n",
       "    <tr style=\"text-align: right;\">\n",
       "      <th></th>\n",
       "      <th>whiteSpaceRatio</th>\n",
       "      <th>ASTNodeBigramsTF_StatementExpression_MethodInvocation</th>\n",
       "      <th>ln(numFunctions/length)</th>\n",
       "      <th>ln(numKeywords/length)</th>\n",
       "      <th>ln(numLiterals/length)</th>\n",
       "      <th>ln(numSpaces/length)</th>\n",
       "      <th>ASTNodeBigramsTF_MethodDeclaration_FormalParameter</th>\n",
       "      <th>ln(numTabs/length)</th>\n",
       "      <th>ln(numTernary/length)</th>\n",
       "      <th>ln(numTokens/length)</th>\n",
       "      <th>...</th>\n",
       "      <th>WordUnigramTF_build</th>\n",
       "      <th>WordUnigramTF_wanted</th>\n",
       "      <th>WordUnigramTF_prln</th>\n",
       "      <th>WordUnigramTF_maxX</th>\n",
       "      <th>WordUnigramTF_LOOP</th>\n",
       "      <th>WordUnigramTF_probability</th>\n",
       "      <th>WordUnigramTF_iterate</th>\n",
       "      <th>WordUnigramTF_order</th>\n",
       "      <th>WordUnigramTF_maxY</th>\n",
       "      <th>WordUnigramTF_ys</th>\n",
       "    </tr>\n",
       "  </thead>\n",
       "  <tbody>\n",
       "    <tr>\n",
       "      <th>0</th>\n",
       "      <td>0.386897</td>\n",
       "      <td>0.025157</td>\n",
       "      <td>-7.022868</td>\n",
       "      <td>-3.655572</td>\n",
       "      <td>-4.314818</td>\n",
       "      <td>0.080214</td>\n",
       "      <td>0.006289</td>\n",
       "      <td>0.154189</td>\n",
       "      <td>-inf</td>\n",
       "      <td>-2.490269</td>\n",
       "      <td>...</td>\n",
       "      <td>NaN</td>\n",
       "      <td>NaN</td>\n",
       "      <td>NaN</td>\n",
       "      <td>NaN</td>\n",
       "      <td>NaN</td>\n",
       "      <td>NaN</td>\n",
       "      <td>NaN</td>\n",
       "      <td>NaN</td>\n",
       "      <td>NaN</td>\n",
       "      <td>NaN</td>\n",
       "    </tr>\n",
       "    <tr>\n",
       "      <th>1</th>\n",
       "      <td>0.367949</td>\n",
       "      <td>0.026490</td>\n",
       "      <td>-6.279459</td>\n",
       "      <td>-3.506870</td>\n",
       "      <td>-4.139393</td>\n",
       "      <td>0.114339</td>\n",
       "      <td>0.013245</td>\n",
       "      <td>0.113402</td>\n",
       "      <td>-6.972606</td>\n",
       "      <td>-2.603158</td>\n",
       "      <td>...</td>\n",
       "      <td>NaN</td>\n",
       "      <td>NaN</td>\n",
       "      <td>NaN</td>\n",
       "      <td>NaN</td>\n",
       "      <td>NaN</td>\n",
       "      <td>NaN</td>\n",
       "      <td>NaN</td>\n",
       "      <td>NaN</td>\n",
       "      <td>NaN</td>\n",
       "      <td>NaN</td>\n",
       "    </tr>\n",
       "    <tr>\n",
       "      <th>2</th>\n",
       "      <td>0.491986</td>\n",
       "      <td>0.010870</td>\n",
       "      <td>-7.018402</td>\n",
       "      <td>-3.463054</td>\n",
       "      <td>-3.552666</td>\n",
       "      <td>0.111310</td>\n",
       "      <td>0.003623</td>\n",
       "      <td>0.163832</td>\n",
       "      <td>-inf</td>\n",
       "      <td>-2.242083</td>\n",
       "      <td>...</td>\n",
       "      <td>NaN</td>\n",
       "      <td>NaN</td>\n",
       "      <td>NaN</td>\n",
       "      <td>NaN</td>\n",
       "      <td>NaN</td>\n",
       "      <td>NaN</td>\n",
       "      <td>NaN</td>\n",
       "      <td>NaN</td>\n",
       "      <td>NaN</td>\n",
       "      <td>NaN</td>\n",
       "    </tr>\n",
       "    <tr>\n",
       "      <th>3</th>\n",
       "      <td>0.422472</td>\n",
       "      <td>0.024390</td>\n",
       "      <td>-7.836765</td>\n",
       "      <td>-4.075565</td>\n",
       "      <td>-4.946393</td>\n",
       "      <td>0.071090</td>\n",
       "      <td>0.003484</td>\n",
       "      <td>0.176540</td>\n",
       "      <td>-inf</td>\n",
       "      <td>-2.736898</td>\n",
       "      <td>...</td>\n",
       "      <td>NaN</td>\n",
       "      <td>NaN</td>\n",
       "      <td>NaN</td>\n",
       "      <td>NaN</td>\n",
       "      <td>NaN</td>\n",
       "      <td>NaN</td>\n",
       "      <td>NaN</td>\n",
       "      <td>NaN</td>\n",
       "      <td>NaN</td>\n",
       "      <td>NaN</td>\n",
       "    </tr>\n",
       "    <tr>\n",
       "      <th>4</th>\n",
       "      <td>0.390135</td>\n",
       "      <td>0.002506</td>\n",
       "      <td>-7.346010</td>\n",
       "      <td>-3.338677</td>\n",
       "      <td>-3.357026</td>\n",
       "      <td>0.120645</td>\n",
       "      <td>0.002506</td>\n",
       "      <td>0.118065</td>\n",
       "      <td>-7.346010</td>\n",
       "      <td>-2.296154</td>\n",
       "      <td>...</td>\n",
       "      <td>NaN</td>\n",
       "      <td>NaN</td>\n",
       "      <td>NaN</td>\n",
       "      <td>NaN</td>\n",
       "      <td>NaN</td>\n",
       "      <td>NaN</td>\n",
       "      <td>NaN</td>\n",
       "      <td>NaN</td>\n",
       "      <td>NaN</td>\n",
       "      <td>NaN</td>\n",
       "    </tr>\n",
       "  </tbody>\n",
       "</table>\n",
       "<p>5 rows × 1500 columns</p>\n",
       "</div>"
      ],
      "text/plain": [
       "   whiteSpaceRatio  ASTNodeBigramsTF_StatementExpression_MethodInvocation  \\\n",
       "0         0.386897                                           0.025157       \n",
       "1         0.367949                                           0.026490       \n",
       "2         0.491986                                           0.010870       \n",
       "3         0.422472                                           0.024390       \n",
       "4         0.390135                                           0.002506       \n",
       "\n",
       "   ln(numFunctions/length)  ln(numKeywords/length)  ln(numLiterals/length)  \\\n",
       "0                -7.022868               -3.655572               -4.314818   \n",
       "1                -6.279459               -3.506870               -4.139393   \n",
       "2                -7.018402               -3.463054               -3.552666   \n",
       "3                -7.836765               -4.075565               -4.946393   \n",
       "4                -7.346010               -3.338677               -3.357026   \n",
       "\n",
       "   ln(numSpaces/length)  ASTNodeBigramsTF_MethodDeclaration_FormalParameter  \\\n",
       "0              0.080214                                           0.006289    \n",
       "1              0.114339                                           0.013245    \n",
       "2              0.111310                                           0.003623    \n",
       "3              0.071090                                           0.003484    \n",
       "4              0.120645                                           0.002506    \n",
       "\n",
       "   ln(numTabs/length)  ln(numTernary/length)  ln(numTokens/length)  ...  \\\n",
       "0            0.154189                   -inf             -2.490269  ...   \n",
       "1            0.113402              -6.972606             -2.603158  ...   \n",
       "2            0.163832                   -inf             -2.242083  ...   \n",
       "3            0.176540                   -inf             -2.736898  ...   \n",
       "4            0.118065              -7.346010             -2.296154  ...   \n",
       "\n",
       "   WordUnigramTF_build  WordUnigramTF_wanted  WordUnigramTF_prln  \\\n",
       "0                  NaN                   NaN                 NaN   \n",
       "1                  NaN                   NaN                 NaN   \n",
       "2                  NaN                   NaN                 NaN   \n",
       "3                  NaN                   NaN                 NaN   \n",
       "4                  NaN                   NaN                 NaN   \n",
       "\n",
       "   WordUnigramTF_maxX  WordUnigramTF_LOOP  WordUnigramTF_probability  \\\n",
       "0                 NaN                 NaN                        NaN   \n",
       "1                 NaN                 NaN                        NaN   \n",
       "2                 NaN                 NaN                        NaN   \n",
       "3                 NaN                 NaN                        NaN   \n",
       "4                 NaN                 NaN                        NaN   \n",
       "\n",
       "   WordUnigramTF_iterate  WordUnigramTF_order  WordUnigramTF_maxY  \\\n",
       "0                    NaN                  NaN                 NaN   \n",
       "1                    NaN                  NaN                 NaN   \n",
       "2                    NaN                  NaN                 NaN   \n",
       "3                    NaN                  NaN                 NaN   \n",
       "4                    NaN                  NaN                 NaN   \n",
       "\n",
       "   WordUnigramTF_ys  \n",
       "0               NaN  \n",
       "1               NaN  \n",
       "2               NaN  \n",
       "3               NaN  \n",
       "4               NaN  \n",
       "\n",
       "[5 rows x 1500 columns]"
      ]
     },
     "execution_count": 16,
     "metadata": {},
     "output_type": "execute_result"
    }
   ],
   "source": [
    "X.head()"
   ]
  },
  {
   "cell_type": "markdown",
   "metadata": {},
   "source": [
    "# Classification"
   ]
  },
  {
   "cell_type": "code",
   "execution_count": 17,
   "metadata": {},
   "outputs": [],
   "source": [
    "from catboost import CatBoostClassifier\n",
    "from sklearn.model_selection import StratifiedKFold"
   ]
  },
  {
   "cell_type": "code",
   "execution_count": 19,
   "metadata": {},
   "outputs": [
    {
     "name": "stdout",
     "output_type": "stream",
     "text": [
      "Validation #1\n",
      "Train accuracy: 1.00\n",
      "Valid accuracy: 0.93\n",
      "\n",
      "Validation #2\n",
      "Train accuracy: 1.00\n",
      "Valid accuracy: 0.93\n",
      "\n",
      "Validation #3\n",
      "Train accuracy: 1.00\n",
      "Valid accuracy: 0.97\n",
      "\n"
     ]
    }
   ],
   "source": [
    "skf = StratifiedKFold(n_splits=3, shuffle=True, random_state=0)\n",
    "\n",
    "for index, (train_index, valid_index) in enumerate(skf.split(X, y)):\n",
    "    X_train, X_valid = X.iloc[train_index], X.iloc[valid_index]\n",
    "    y_train, y_valid = y[train_index], y[valid_index]\n",
    "\n",
    "    model = CatBoostClassifier(\n",
    "        iterations=500, \n",
    "        learning_rate=0.2,\n",
    "        rsm=0.01,\n",
    "        depth=3,\n",
    "        bootstrap_type='Bernoulli',\n",
    "        subsample=0.7,\n",
    "        loss_function='MultiClass'\n",
    "    )\n",
    "    \n",
    "    model.fit(X_train, y_train, eval_set=(X_valid, y_valid), plot=False, verbose=False)\n",
    "    \n",
    "    y_pred = model.predict(X_train).squeeze()\n",
    "    train_acc = np.average(y_train == y_pred)\n",
    "\n",
    "    y_pred = model.predict(X_valid).squeeze()\n",
    "    valid_acc = np.average(y_valid == y_pred)\n",
    "\n",
    "    print(f'Validation #{index + 1}')\n",
    "    print(f'Train accuracy: {train_acc:.2f}')\n",
    "    print(f'Valid accuracy: {valid_acc:.2f}\\n')"
   ]
  }
 ],
 "metadata": {
  "kernelspec": {
   "display_name": "Python3 (code_venv)",
   "language": "python",
   "name": "code_venv"
  },
  "language_info": {
   "codemirror_mode": {
    "name": "ipython",
    "version": 3
   },
   "file_extension": ".py",
   "mimetype": "text/x-python",
   "name": "python",
   "nbconvert_exporter": "python",
   "pygments_lexer": "ipython3",
   "version": "3.7.0"
  }
 },
 "nbformat": 4,
 "nbformat_minor": 2
}
